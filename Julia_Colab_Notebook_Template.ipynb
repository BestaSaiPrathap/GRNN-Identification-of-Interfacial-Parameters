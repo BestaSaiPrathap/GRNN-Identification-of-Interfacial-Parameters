{
  "nbformat": 4,
  "nbformat_minor": 0,
  "metadata": {
    "colab": {
      "provenance": [],
      "gpuType": "T4",
      "include_colab_link": true
    },
    "kernelspec": {
      "display_name": "Julia",
      "name": "julia"
    },
    "language_info": {
      "file_extension": ".jl",
      "mimetype": "application/julia",
      "name": "julia"
    },
    "accelerator": "GPU"
  },
  "cells": [
    {
      "cell_type": "markdown",
      "metadata": {
        "id": "view-in-github",
        "colab_type": "text"
      },
      "source": [
        "<a href=\"https://colab.research.google.com/github/BestaSaiPrathap/GRNN-Identification-of-Interfacial-Parameters/blob/main/Julia_Colab_Notebook_Template.ipynb\" target=\"_parent\"><img src=\"https://colab.research.google.com/assets/colab-badge.svg\" alt=\"Open In Colab\"/></a>"
      ]
    },
    {
      "cell_type": "markdown",
      "metadata": {
        "id": "tQ1r1bbb0yBv"
      },
      "source": [
        "# <img src=\"https://github.com/JuliaLang/julia-logo-graphics/raw/master/images/julia-logo-color.png\" height=\"100\" /> _Colab Notebook Template_\n",
        "\n",
        "## Instructions\n",
        "1. Work on a copy of this notebook: _File_ > _Save a copy in Drive_ (you will need a Google account). Alternatively, you can download the notebook using _File_ > _Download .ipynb_, then upload it to [Colab](https://colab.research.google.com/).\n",
        "2. If you need a GPU: _Runtime_ > _Change runtime type_ > _Harware accelerator_ = _GPU_.\n",
        "3. Execute the following cell (click on it and press Ctrl+Enter) to install Julia, IJulia and other packages (if needed, update `JULIA_VERSION` and the other parameters). This takes a couple of minutes.\n",
        "4. Reload this page (press Ctrl+R, or ⌘+R, or the F5 key) and continue to the next section.\n",
        "\n",
        "_Notes_:\n",
        "* If your Colab Runtime gets reset (e.g., due to inactivity), repeat steps 2, 3 and 4.\n",
        "* After installation, if you want to change the Julia version or activate/deactivate the GPU, you will need to reset the Runtime: _Runtime_ > _Factory reset runtime_ and repeat steps 3 and 4."
      ]
    },
    {
      "cell_type": "code",
      "metadata": {
        "id": "GIeFXS0F0zww",
        "colab": {
          "base_uri": "https://localhost:8080/",
          "height": 107
        },
        "outputId": "87616aa6-9c78-409e-fef1-bbda3e119761"
      },
      "source": [
        "%%shell\n",
        "set -e\n",
        "\n",
        "#---------------------------------------------------#\n",
        "JULIA_VERSION=\"1.8.2\" # any version ≥ 0.7.0\n",
        "JULIA_PACKAGES=\"IJulia BenchmarkTools\"\n",
        "JULIA_PACKAGES_IF_GPU=\"CUDA\" # or CuArrays for older Julia versions\n",
        "JULIA_NUM_THREADS=2\n",
        "#---------------------------------------------------#\n",
        "\n",
        "if [ -z `which julia` ]; then\n",
        "  # Install Julia\n",
        "  JULIA_VER=`cut -d '.' -f -2 <<< \"$JULIA_VERSION\"`\n",
        "  echo \"Installing Julia $JULIA_VERSION on the current Colab Runtime...\"\n",
        "  BASE_URL=\"https://julialang-s3.julialang.org/bin/linux/x64\"\n",
        "  URL=\"$BASE_URL/$JULIA_VER/julia-$JULIA_VERSION-linux-x86_64.tar.gz\"\n",
        "  wget -nv $URL -O /tmp/julia.tar.gz # -nv means \"not verbose\"\n",
        "  tar -x -f /tmp/julia.tar.gz -C /usr/local --strip-components 1\n",
        "  rm /tmp/julia.tar.gz\n",
        "\n",
        "  # Install Packages\n",
        "  nvidia-smi -L &> /dev/null && export GPU=1 || export GPU=0\n",
        "  if [ $GPU -eq 1 ]; then\n",
        "    JULIA_PACKAGES=\"$JULIA_PACKAGES $JULIA_PACKAGES_IF_GPU\"\n",
        "  fi\n",
        "  for PKG in `echo $JULIA_PACKAGES`; do\n",
        "    echo \"Installing Julia package $PKG...\"\n",
        "    julia -e 'using Pkg; pkg\"add '$PKG'; precompile;\"' &> /dev/null\n",
        "  done\n",
        "\n",
        "  # Install kernel and rename it to \"julia\"\n",
        "  echo \"Installing IJulia kernel...\"\n",
        "  julia -e 'using IJulia; IJulia.installkernel(\"julia\", env=Dict(\n",
        "      \"JULIA_NUM_THREADS\"=>\"'\"$JULIA_NUM_THREADS\"'\"))'\n",
        "  KERNEL_DIR=`julia -e \"using IJulia; print(IJulia.kerneldir())\"`\n",
        "  KERNEL_NAME=`ls -d \"$KERNEL_DIR\"/julia*`\n",
        "  mv -f $KERNEL_NAME \"$KERNEL_DIR\"/julia\n",
        "\n",
        "  echo ''\n",
        "  echo \"Successfully installed `julia -v`!\"\n",
        "  echo \"Please reload this page (press Ctrl+R, ⌘+R, or the F5 key) then\"\n",
        "  echo \"jump to the 'Checking the Installation' section.\"\n",
        "fi"
      ],
      "execution_count": 1,
      "outputs": [
        {
          "output_type": "display_data",
          "data": {
            "text/plain": [
              "  Unrecognized magic \u001b[36m%%shell\u001b[39m.\n",
              "\n",
              "  Julia does not use the IPython \u001b[36m%magic\u001b[39m syntax. To interact with the IJulia kernel, use\n",
              "  \u001b[36mIJulia.somefunction(...)\u001b[39m, for example. Julia macros, string macros, and functions can be used to\n",
              "  accomplish most of the other functionalities of IPython magics."
            ],
            "text/markdown": "Unrecognized magic `%%shell`.\n\nJulia does not use the IPython `%magic` syntax.   To interact with the IJulia kernel, use `IJulia.somefunction(...)`, for example.  Julia macros, string macros, and functions can be used to accomplish most of the other functionalities of IPython magics.\n",
            "text/latex": "Unrecognized magic \\texttt{\\%\\%shell}.\n\nJulia does not use the IPython \\texttt{\\%magic} syntax.   To interact with the IJulia kernel, use \\texttt{IJulia.somefunction(...)}, for example.  Julia macros, string macros, and functions can be used to accomplish most of the other functionalities of IPython magics.\n\n"
          },
          "metadata": {}
        }
      ]
    },
    {
      "cell_type": "code",
      "source": [
        "# Run shell commands in Julia using `run()`\n",
        "JULIA_VERSION = \"1.8.2\"  # Any version ≥ 0.7.0\n",
        "JULIA_PACKAGES = [\"IJulia\", \"BenchmarkTools\"]\n",
        "JULIA_PACKAGES_IF_GPU = [\"CUDA\"]  # Or CuArrays for older Julia versions\n",
        "JULIA_NUM_THREADS = 2\n",
        "\n",
        "# Check if Julia is installed\n",
        "if Sys.which(\"julia\") === nothing\n",
        "    println(\"Installing Julia $JULIA_VERSION on the current Colab Runtime...\")\n",
        "\n",
        "    JULIA_VER = split(JULIA_VERSION, \".\")[1:2] |> join(\".\")\n",
        "    BASE_URL = \"https://julialang-s3.julialang.org/bin/linux/x64\"\n",
        "    URL = \"$BASE_URL/$JULIA_VER/julia-$JULIA_VERSION-linux-x86_64.tar.gz\"\n",
        "\n",
        "    run(`wget -nv $URL -O /tmp/julia.tar.gz`)  # -nv means \"not verbose\"\n",
        "    run(`tar -x -f /tmp/julia.tar.gz -C /usr/local --strip-components=1`)\n",
        "    run(`rm /tmp/julia.tar.gz`)\n",
        "\n",
        "    # Check for GPU support\n",
        "    GPU = Sys.islinux() && success(`nvidia-smi -L`)\n",
        "    if GPU\n",
        "        append!(JULIA_PACKAGES, JULIA_PACKAGES_IF_GPU)\n",
        "    end\n",
        "\n",
        "    # Install Packages\n",
        "    for PKG in JULIA_PACKAGES\n",
        "        println(\"Installing Julia package $PKG...\")\n",
        "        run(`julia -e 'using Pkg; Pkg.add(\"$PKG\"); Pkg.precompile()'`)\n",
        "    end\n",
        "\n",
        "    # Install kernel\n",
        "    println(\"Installing IJulia kernel...\")\n",
        "    run(`julia -e 'using IJulia; IJulia.installkernel(\"julia\", env=Dict(\n",
        "        \"JULIA_NUM_THREADS\"=>\"$JULIA_NUM_THREADS\"))'`)\n",
        "\n",
        "    println(\"\\nSuccessfully installed $(read(`julia -v`, String))!\")\n",
        "    println(\"Please reload this page (press Ctrl+R, ⌘+R, or the F5 key) then jump to the 'Checking the Installation' section.\")\n",
        "end\n"
      ],
      "metadata": {
        "id": "QAiziHwuiKEU"
      },
      "execution_count": 2,
      "outputs": []
    },
    {
      "cell_type": "markdown",
      "metadata": {
        "id": "-OS3Ac017T1i"
      },
      "source": [
        "# Checking the Installation\n",
        "The `versioninfo()` function should print your Julia version and some other info about the system:"
      ]
    },
    {
      "cell_type": "code",
      "metadata": {
        "id": "EEzvvzCl1i0F",
        "colab": {
          "base_uri": "https://localhost:8080/"
        },
        "outputId": "597f47ff-9b20-4cb6-9a70-1218ecfede49"
      },
      "source": [
        "versioninfo()"
      ],
      "execution_count": 3,
      "outputs": [
        {
          "output_type": "stream",
          "name": "stdout",
          "text": [
            "Julia Version 1.10.9\n",
            "Commit 5595d20a287 (2025-03-10 12:51 UTC)\n",
            "Build Info:\n",
            "  Official https://julialang.org/ release\n",
            "Platform Info:\n",
            "  OS: Linux (x86_64-linux-gnu)\n",
            "  CPU: 2 × Intel(R) Xeon(R) CPU @ 2.20GHz\n",
            "  WORD_SIZE: 64\n",
            "  LIBM: libopenlibm\n",
            "  LLVM: libLLVM-15.0.7 (ORCJIT, broadwell)\n",
            "Threads: 2 default, 0 interactive, 1 GC (on 2 virtual cores)\n",
            "Environment:\n",
            "  LD_LIBRARY_PATH = /usr/local/nvidia/lib:/usr/local/nvidia/lib64\n",
            "  JULIA_NUM_THREADS = auto\n"
          ]
        }
      ]
    },
    {
      "cell_type": "code",
      "source": [
        "import Pkg; Pkg.add(\"BenchmarkTools\")"
      ],
      "metadata": {
        "id": "9VY8XgRLiQcf",
        "outputId": "083cf2a2-83e7-465b-d759-ace1a5ce83e9",
        "colab": {
          "base_uri": "https://localhost:8080/"
        }
      },
      "execution_count": 5,
      "outputs": [
        {
          "output_type": "stream",
          "name": "stderr",
          "text": [
            "\u001b[32m\u001b[1m    Updating\u001b[22m\u001b[39m registry at `~/.julia/registries/General.toml`\n",
            "\u001b[32m\u001b[1m   Resolving\u001b[22m\u001b[39m package versions...\n",
            "\u001b[32m\u001b[1m   Installed\u001b[22m\u001b[39m BenchmarkTools ─ v1.6.0\n",
            "\u001b[32m\u001b[1m    Updating\u001b[22m\u001b[39m `~/.julia/environments/v1.10/Project.toml`\n",
            "  \u001b[90m[6e4b80f9] \u001b[39m\u001b[92m+ BenchmarkTools v1.6.0\u001b[39m\n",
            "\u001b[32m\u001b[1m    Updating\u001b[22m\u001b[39m `~/.julia/environments/v1.10/Manifest.toml`\n",
            "  \u001b[90m[6e4b80f9] \u001b[39m\u001b[92m+ BenchmarkTools v1.6.0\u001b[39m\n",
            "  \u001b[90m[9abbd945] \u001b[39m\u001b[92m+ Profile\u001b[39m\n",
            "\u001b[32m\u001b[1mPrecompiling\u001b[22m\u001b[39m packages...\n",
            "   3129.1 ms\u001b[32m  ✓ \u001b[39mBenchmarkTools\n",
            "  1 dependency successfully precompiled in 15 seconds. 461 already precompiled.\n"
          ]
        }
      ]
    },
    {
      "cell_type": "code",
      "source": [
        "using BenchmarkTools\n",
        "\n",
        "M = rand(2^11, 2^11)\n",
        "\n",
        "@btime $M * $M;"
      ],
      "metadata": {
        "colab": {
          "base_uri": "https://localhost:8080/"
        },
        "id": "YjM_qq54lCcs",
        "outputId": "83b377f5-7e45-4547-cf40-6aad76d27e42"
      },
      "execution_count": 6,
      "outputs": [
        {
          "output_type": "stream",
          "name": "stdout",
          "text": [
            "  556.305 ms (2 allocations: 32.00 MiB)\n"
          ]
        }
      ]
    },
    {
      "cell_type": "code",
      "source": [],
      "metadata": {
        "id": "RsU1s7p9zp7A"
      },
      "execution_count": null,
      "outputs": []
    },
    {
      "cell_type": "code",
      "metadata": {
        "id": "XciCcMAJOT3_",
        "colab": {
          "base_uri": "https://localhost:8080/",
          "height": 73
        },
        "outputId": "c164f0c5-b4f3-440d-b0f9-36f5468d3d0b"
      },
      "source": [
        "try\n",
        "    using CUDA\n",
        "catch\n",
        "    println(\"No GPU found.\")\n",
        "else\n",
        "    run(`nvidia-smi`)\n",
        "    # Create a new random matrix directly on the GPU:\n",
        "    M_on_gpu = CUDA.CURAND.rand(2^11, 2^11)\n",
        "    @btime $M_on_gpu * $M_on_gpu; nothing\n",
        "end"
      ],
      "execution_count": 1,
      "outputs": [
        {
          "output_type": "error",
          "ename": "LoadError",
          "evalue": "LoadError: UndefVarError: `@btime` not defined\nin expression starting at In[1]:9",
          "traceback": [
            "LoadError: UndefVarError: `@btime` not defined\nin expression starting at In[1]:9",
            ""
          ]
        }
      ]
    },
    {
      "cell_type": "code",
      "source": [
        "pkg> precompile"
      ],
      "metadata": {
        "id": "aMuMhTVxE0uH",
        "outputId": "bb4bb260-b1ff-4574-c2e2-c17775a049ec",
        "colab": {
          "base_uri": "https://localhost:8080/",
          "height": 128
        }
      },
      "execution_count": 14,
      "outputs": [
        {
          "output_type": "error",
          "ename": "LoadError",
          "evalue": "UndefVarError: `pkg` not defined",
          "traceback": [
            "UndefVarError: `pkg` not defined",
            "",
            "Stacktrace:",
            " [1] top-level scope",
            "   @ In[14]:1"
          ]
        }
      ]
    },
    {
      "cell_type": "code",
      "source": [
        "import Pkg; Pkg.add(\"GridapGmsh\")"
      ],
      "metadata": {
        "id": "qVieYmUOz5nP"
      },
      "execution_count": null,
      "outputs": []
    },
    {
      "cell_type": "code",
      "source": [
        "import Pkg\n",
        "Pkg.update()\n"
      ],
      "metadata": {
        "id": "Ax8oNNRiE_vY",
        "outputId": "eff0f0cb-978b-4064-b15a-a29dd49456e4",
        "colab": {
          "base_uri": "https://localhost:8080/"
        }
      },
      "execution_count": null,
      "outputs": [
        {
          "output_type": "stream",
          "name": "stderr",
          "text": [
            "\u001b[32m\u001b[1m    Updating\u001b[22m\u001b[39m registry at `~/.julia/registries/General.toml`\n",
            "\u001b[32m\u001b[1m   Installed\u001b[22m\u001b[39m Enzyme ─────── v0.13.34\n",
            "\u001b[32m\u001b[1m   Installed\u001b[22m\u001b[39m ArgCheck ───── v2.5.0\n",
            "\u001b[32m\u001b[1m   Installed\u001b[22m\u001b[39m GPUToolbox ─── v0.2.0\n",
            "\u001b[32m\u001b[1m   Installed\u001b[22m\u001b[39m CUDA ───────── v5.7.1\n",
            "\u001b[32m\u001b[1m   Installed\u001b[22m\u001b[39m Reactant ───── v0.2.50\n",
            "\u001b[32m\u001b[1m   Installed\u001b[22m\u001b[39m Reactant_jll ─ v0.0.97+0\n",
            "\u001b[32m\u001b[1m    Updating\u001b[22m\u001b[39m `~/.julia/environments/v1.10/Project.toml`\n",
            "  \u001b[90m[052768ef] \u001b[39m\u001b[93m↑ CUDA v5.7.0 ⇒ v5.7.1\u001b[39m\n",
            "  \u001b[90m[3c362404] \u001b[39m\u001b[93m↑ Reactant v0.2.46 ⇒ v0.2.50\u001b[39m\n",
            "\u001b[32m\u001b[1m    Updating\u001b[22m\u001b[39m `~/.julia/environments/v1.10/Manifest.toml`\n",
            "  \u001b[90m[dce04be8] \u001b[39m\u001b[93m↑ ArgCheck v2.4.0 ⇒ v2.5.0\u001b[39m\n",
            "  \u001b[90m[052768ef] \u001b[39m\u001b[93m↑ CUDA v5.7.0 ⇒ v5.7.1\u001b[39m\n",
            "  \u001b[90m[7da242da] \u001b[39m\u001b[93m↑ Enzyme v0.13.33 ⇒ v0.13.34\u001b[39m\n",
            "  \u001b[90m[096a3bc2] \u001b[39m\u001b[93m↑ GPUToolbox v0.1.0 ⇒ v0.2.0\u001b[39m\n",
            "  \u001b[90m[3c362404] \u001b[39m\u001b[93m↑ Reactant v0.2.46 ⇒ v0.2.50\u001b[39m\n",
            "  \u001b[90m[0192cb87] \u001b[39m\u001b[93m↑ Reactant_jll v0.0.94+0 ⇒ v0.0.97+0\u001b[39m\n",
            "\u001b[32m\u001b[1mPrecompiling\u001b[22m\u001b[39m packages...\n",
            "   1486.2 ms\u001b[32m  ✓ \u001b[39m\u001b[90mArgCheck\u001b[39m\n",
            "   1385.3 ms\u001b[32m  ✓ \u001b[39m\u001b[90mGPUToolbox\u001b[39m\n",
            "   3329.5 ms\u001b[32m  ✓ \u001b[39m\u001b[90mReactant_jll\u001b[39m\n",
            "         \u001b[91m  ✗ \u001b[39m\u001b[90mGLU_jll\u001b[39m\n",
            "         \u001b[91m  ✗ \u001b[39m\u001b[90mOCCT_jll\u001b[39m\n",
            "         \u001b[91m  ✗ \u001b[39m\u001b[90mFLTK_jll\u001b[39m\n",
            "   4135.1 ms\u001b[32m  ✓ \u001b[39m\u001b[90mPolynomialBases\u001b[39m\n",
            "   5941.5 ms\u001b[32m  ✓ \u001b[39m\u001b[90mWeightInitializers\u001b[39m\n",
            "         \u001b[91m  ✗ \u001b[39m\u001b[90mgmsh_jll\u001b[39m\n",
            "  65388.3 ms\u001b[32m  ✓ \u001b[39m\u001b[90mGridap\u001b[39m\n",
            "   4124.7 ms\u001b[32m  ✓ \u001b[39m\u001b[90mWeightInitializers → WeightInitializersGPUArraysExt\u001b[39m\n",
            "   2155.1 ms\u001b[32m  ✓ \u001b[39m\u001b[90mWeightInitializers → WeightInitializersChainRulesCoreExt\u001b[39m\n",
            "  10399.6 ms\u001b[32m  ✓ \u001b[39m\u001b[90mGridapDistributed\u001b[39m\n",
            "  20196.4 ms\u001b[32m  ✓ \u001b[39mLux\n",
            "         \u001b[91m  ✗ \u001b[39mGridapGmsh\n",
            " 128221.9 ms\u001b[32m  ✓ \u001b[39mCUDA\n",
            "   4176.6 ms\u001b[32m  ✓ \u001b[39mLux → LuxMPIExt\n",
            "   8038.0 ms\u001b[32m  ✓ \u001b[39m\u001b[90mAtomix → AtomixCUDAExt\u001b[39m\n",
            "  11569.4 ms\u001b[32m  ✓ \u001b[39mCUDA → SpecialFunctionsExt\n",
            "  12170.0 ms\u001b[32m  ✓ \u001b[39mCUDA → ChainRulesCoreExt\n",
            "  12195.6 ms\u001b[32m  ✓ \u001b[39mCUDA → EnzymeCoreExt\n",
            "  11798.8 ms\u001b[32m  ✓ \u001b[39m\u001b[90mArrayInterface → ArrayInterfaceCUDAExt\u001b[39m\n",
            "  11557.9 ms\u001b[32m  ✓ \u001b[39m\u001b[90mMPI → CUDAExt\u001b[39m\n",
            "  11842.8 ms\u001b[32m  ✓ \u001b[39m\u001b[90mWeightInitializers → WeightInitializersCUDAExt\u001b[39m\n",
            "   8489.6 ms\u001b[32m  ✓ \u001b[39m\u001b[90mNNlib → NNlibCUDAExt\u001b[39m\n"
          ]
        }
      ]
    },
    {
      "cell_type": "code",
      "source": [
        "using GridapGmsh\n",
        "using Gmsh: gmsh\n",
        "using Gridap\n",
        "using Gridap.Geometry\n",
        "using Gridap.TensorValues\n",
        "using LineSearches: BackTracking\n",
        "using LinearAlgebra"
      ],
      "metadata": {
        "id": "dXTqAPoIz25R",
        "outputId": "876e9afb-b3e8-4b0e-c5eb-67d409b53e37",
        "colab": {
          "base_uri": "https://localhost:8080/",
          "height": 1000
        }
      },
      "execution_count": 12,
      "outputs": [
        {
          "output_type": "stream",
          "name": "stderr",
          "text": [
            "\u001b[32m\u001b[1mPrecompiling\u001b[22m\u001b[39m packages...\n",
            "         \u001b[91m  ✗ \u001b[39m\u001b[90mGLU_jll\u001b[39m\n",
            "         \u001b[91m  ✗ \u001b[39m\u001b[90mOCCT_jll\u001b[39m\n",
            "         \u001b[91m  ✗ \u001b[39m\u001b[90mFLTK_jll\u001b[39m\n",
            "         \u001b[91m  ✗ \u001b[39m\u001b[90mgmsh_jll\u001b[39m\n",
            "\u001b[36m\u001b[1mInfo\u001b[22m\u001b[39m Given GridapGmsh was explicitly requested, output will be shown live \u001b[0K\n",
            "\u001b[0K\u001b[91m\u001b[1mERROR: \u001b[22m\u001b[39mLoadError: Package GridapGmsh not installed properly.\n",
            "\u001b[0KRun Pkg.build(\"GridapGmsh\"), restart Julia and try again.\n",
            "\u001b[0K\n",
            "\u001b[0KStacktrace:\n",
            "\u001b[0K [1] \u001b[0m\u001b[1merror\u001b[22m\u001b[0m\u001b[1m(\u001b[22m\u001b[90ms\u001b[39m::\u001b[0mString\u001b[0m\u001b[1m)\u001b[22m\n",
            "\u001b[0K\u001b[90m   @\u001b[39m \u001b[90mBase\u001b[39m \u001b[90m./\u001b[39m\u001b[90m\u001b[4merror.jl:35\u001b[24m\u001b[39m\n",
            "\u001b[0K [2] top-level scope\n",
            "\u001b[0K\u001b[90m   @\u001b[39m \u001b[90m~/.julia/packages/GridapGmsh/ZGvkt/src/\u001b[39m\u001b[90m\u001b[4mGridapGmsh.jl:31\u001b[24m\u001b[39m\n",
            "\u001b[0K [3] \u001b[0m\u001b[1minclude\u001b[22m\n",
            "\u001b[0K\u001b[90m   @\u001b[39m \u001b[90m./\u001b[39m\u001b[90m\u001b[4mBase.jl:495\u001b[24m\u001b[39m\u001b[90m [inlined]\u001b[39m\n",
            "\u001b[0K [4] \u001b[0m\u001b[1minclude_package_for_output\u001b[22m\u001b[0m\u001b[1m(\u001b[22m\u001b[90mpkg\u001b[39m::\u001b[0mBase.PkgId, \u001b[90minput\u001b[39m::\u001b[0mString, \u001b[90mdepot_path\u001b[39m::\u001b[0mVector\u001b[90m{String}\u001b[39m, \u001b[90mdl_load_path\u001b[39m::\u001b[0mVector\u001b[90m{String}\u001b[39m, \u001b[90mload_path\u001b[39m::\u001b[0mVector\u001b[90m{String}\u001b[39m, \u001b[90mconcrete_deps\u001b[39m::\u001b[0mVector\u001b[90m{Pair{Base.PkgId, UInt128}}\u001b[39m, \u001b[90msource\u001b[39m::\u001b[0mNothing\u001b[0m\u001b[1m)\u001b[22m\n",
            "\u001b[0K\u001b[90m   @\u001b[39m \u001b[90mBase\u001b[39m \u001b[90m./\u001b[39m\u001b[90m\u001b[4mloading.jl:2292\u001b[24m\u001b[39m\n",
            "\u001b[0K [5] top-level scope\n",
            "\u001b[0K\u001b[90m   @\u001b[39m \u001b[90m\u001b[4mstdin:4\u001b[24m\u001b[39m\n",
            "\u001b[0Kin expression starting at /root/.julia/packages/GridapGmsh/ZGvkt/src/GridapGmsh.jl:1\n",
            "\u001b[0Kin expression starting at stdin:4\n",
            "         \u001b[91m  ✗ \u001b[39mGridapGmsh\n",
            "  0 dependencies successfully precompiled in 12 seconds. 155 already precompiled.\n",
            "\n"
          ]
        },
        {
          "output_type": "error",
          "ename": "LoadError",
          "evalue": "The following 1 direct dependency failed to precompile:\n\nGridapGmsh \n\nFailed to precompile GridapGmsh [3025c34a-b394-11e9-2a55-3fee550c04c8] to \"/root/.julia/compiled/v1.10/GridapGmsh/jl_bYafzb\".\n\u001b[91m\u001b[1mERROR: \u001b[22m\u001b[39mLoadError: Package GridapGmsh not installed properly.\nRun Pkg.build(\"GridapGmsh\"), restart Julia and try again.\n\nStacktrace:\n [1] \u001b[0m\u001b[1merror\u001b[22m\u001b[0m\u001b[1m(\u001b[22m\u001b[90ms\u001b[39m::\u001b[0mString\u001b[0m\u001b[1m)\u001b[22m\n\u001b[90m   @\u001b[39m \u001b[90mBase\u001b[39m \u001b[90m./\u001b[39m\u001b[90m\u001b[4merror.jl:35\u001b[24m\u001b[39m\n [2] top-level scope\n\u001b[90m   @\u001b[39m \u001b[90m~/.julia/packages/GridapGmsh/ZGvkt/src/\u001b[39m\u001b[90m\u001b[4mGridapGmsh.jl:31\u001b[24m\u001b[39m\n [3] \u001b[0m\u001b[1minclude\u001b[22m\n\u001b[90m   @\u001b[39m \u001b[90m./\u001b[39m\u001b[90m\u001b[4mBase.jl:495\u001b[24m\u001b[39m\u001b[90m [inlined]\u001b[39m\n [4] \u001b[0m\u001b[1minclude_package_for_output\u001b[22m\u001b[0m\u001b[1m(\u001b[22m\u001b[90mpkg\u001b[39m::\u001b[0mBase.PkgId, \u001b[90minput\u001b[39m::\u001b[0mString, \u001b[90mdepot_path\u001b[39m::\u001b[0mVector\u001b[90m{String}\u001b[39m, \u001b[90mdl_load_path\u001b[39m::\u001b[0mVector\u001b[90m{String}\u001b[39m, \u001b[90mload_path\u001b[39m::\u001b[0mVector\u001b[90m{String}\u001b[39m, \u001b[90mconcrete_deps\u001b[39m::\u001b[0mVector\u001b[90m{Pair{Base.PkgId, UInt128}}\u001b[39m, \u001b[90msource\u001b[39m::\u001b[0mNothing\u001b[0m\u001b[1m)\u001b[22m\n\u001b[90m   @\u001b[39m \u001b[90mBase\u001b[39m \u001b[90m./\u001b[39m\u001b[90m\u001b[4mloading.jl:2292\u001b[24m\u001b[39m\n [5] top-level scope\n\u001b[90m   @\u001b[39m \u001b[90m\u001b[4mstdin:4\u001b[24m\u001b[39m\nin expression starting at /root/.julia/packages/GridapGmsh/ZGvkt/src/GridapGmsh.jl:1\nin expression starting at stdin:",
          "traceback": [
            "The following 1 direct dependency failed to precompile:\n\nGridapGmsh \n\nFailed to precompile GridapGmsh [3025c34a-b394-11e9-2a55-3fee550c04c8] to \"/root/.julia/compiled/v1.10/GridapGmsh/jl_bYafzb\".\n\u001b[91m\u001b[1mERROR: \u001b[22m\u001b[39mLoadError: Package GridapGmsh not installed properly.\nRun Pkg.build(\"GridapGmsh\"), restart Julia and try again.\n\nStacktrace:\n [1] \u001b[0m\u001b[1merror\u001b[22m\u001b[0m\u001b[1m(\u001b[22m\u001b[90ms\u001b[39m::\u001b[0mString\u001b[0m\u001b[1m)\u001b[22m\n\u001b[90m   @\u001b[39m \u001b[90mBase\u001b[39m \u001b[90m./\u001b[39m\u001b[90m\u001b[4merror.jl:35\u001b[24m\u001b[39m\n [2] top-level scope\n\u001b[90m   @\u001b[39m \u001b[90m~/.julia/packages/GridapGmsh/ZGvkt/src/\u001b[39m\u001b[90m\u001b[4mGridapGmsh.jl:31\u001b[24m\u001b[39m\n [3] \u001b[0m\u001b[1minclude\u001b[22m\n\u001b[90m   @\u001b[39m \u001b[90m./\u001b[39m\u001b[90m\u001b[4mBase.jl:495\u001b[24m\u001b[39m\u001b[90m [inlined]\u001b[39m\n [4] \u001b[0m\u001b[1minclude_package_for_output\u001b[22m\u001b[0m\u001b[1m(\u001b[22m\u001b[90mpkg\u001b[39m::\u001b[0mBase.PkgId, \u001b[90minput\u001b[39m::\u001b[0mString, \u001b[90mdepot_path\u001b[39m::\u001b[0mVector\u001b[90m{String}\u001b[39m, \u001b[90mdl_load_path\u001b[39m::\u001b[0mVector\u001b[90m{String}\u001b[39m, \u001b[90mload_path\u001b[39m::\u001b[0mVector\u001b[90m{String}\u001b[39m, \u001b[90mconcrete_deps\u001b[39m::\u001b[0mVector\u001b[90m{Pair{Base.PkgId, UInt128}}\u001b[39m, \u001b[90msource\u001b[39m::\u001b[0mNothing\u001b[0m\u001b[1m)\u001b[22m\n\u001b[90m   @\u001b[39m \u001b[90mBase\u001b[39m \u001b[90m./\u001b[39m\u001b[90m\u001b[4mloading.jl:2292\u001b[24m\u001b[39m\n [5] top-level scope\n\u001b[90m   @\u001b[39m \u001b[90m\u001b[4mstdin:4\u001b[24m\u001b[39m\nin expression starting at /root/.julia/packages/GridapGmsh/ZGvkt/src/GridapGmsh.jl:1\nin expression starting at stdin:",
            "",
            "Stacktrace:",
            "  [1] _precompilepkgs(pkgs::Vector{String}, internal_call::Bool, strict::Bool, warn_loaded::Bool, timing::Bool, _from_loading::Bool, io::IOContext{IO}, fancyprint::Bool, manifest::Bool)",
            "    @ Pkg.API.Precompilation /usr/local/share/julia/stdlib/v1.10/Pkg/src/precompilation.jl:1029",
            "  [2] #precompilepkgs#5",
            "    @ /usr/local/share/julia/stdlib/v1.10/Pkg/src/precompilation.jl:332 [inlined]",
            "  [3] (::Pkg.API.var\"#225#226\"{Bool, Bool, Bool, Bool, Bool, Vector{Pkg.Types.PackageSpec}})()",
            "    @ Pkg.API /usr/local/share/julia/stdlib/v1.10/Pkg/src/API.jl:1090",
            "  [4] activate(f::Pkg.API.var\"#225#226\"{Bool, Bool, Bool, Bool, Bool, Vector{Pkg.Types.PackageSpec}}, new_project::String)",
            "    @ Pkg.API /usr/local/share/julia/stdlib/v1.10/Pkg/src/API.jl:1315",
            "  [5] precompile(ctx::Pkg.Types.Context, pkgs::Vector{Pkg.Types.PackageSpec}; internal_call::Bool, strict::Bool, warn_loaded::Bool, already_instantiated::Bool, timing::Bool, _from_loading::Bool, kwargs::@Kwargs{io::IJulia.IJuliaStdio{Base.PipeEndpoint}})",
            "    @ Pkg.API /usr/local/share/julia/stdlib/v1.10/Pkg/src/API.jl:1088",
            "  [6] precompile(pkgs::Vector{Pkg.Types.PackageSpec}; io::IJulia.IJuliaStdio{Base.PipeEndpoint}, kwargs::@Kwargs{_from_loading::Bool})",
            "    @ Pkg.API /usr/local/share/julia/stdlib/v1.10/Pkg/src/API.jl:159",
            "  [7] precompile",
            "    @ /usr/local/share/julia/stdlib/v1.10/Pkg/src/API.jl:147 [inlined]",
            "  [8] #precompile#114",
            "    @ /usr/local/share/julia/stdlib/v1.10/Pkg/src/API.jl:146 [inlined]",
            "  [9] #invokelatest#2",
            "    @ ./essentials.jl:894 [inlined]",
            " [10] invokelatest",
            "    @ ./essentials.jl:889 [inlined]",
            " [11] _require(pkg::Base.PkgId, env::String)",
            "    @ Base ./loading.jl:2033",
            " [12] __require_prelocked(uuidkey::Base.PkgId, env::String)",
            "    @ Base ./loading.jl:1882",
            " [13] #invoke_in_world#3",
            "    @ ./essentials.jl:926 [inlined]",
            " [14] invoke_in_world",
            "    @ ./essentials.jl:923 [inlined]",
            " [15] _require_prelocked(uuidkey::Base.PkgId, env::String)",
            "    @ Base ./loading.jl:1873",
            " [16] macro expansion",
            "    @ ./loading.jl:1860 [inlined]",
            " [17] macro expansion",
            "    @ ./lock.jl:267 [inlined]",
            " [18] __require(into::Module, mod::Symbol)",
            "    @ Base ./loading.jl:1823",
            " [19] #invoke_in_world#3",
            "    @ ./essentials.jl:926 [inlined]",
            " [20] invoke_in_world",
            "    @ ./essentials.jl:923 [inlined]",
            " [21] require(into::Module, mod::Symbol)",
            "    @ Base ./loading.jl:1816"
          ]
        }
      ]
    },
    {
      "cell_type": "code",
      "source": [
        "const E_mat = 36.2e3\n",
        "const ν_mat = 0.21\n",
        "\n",
        "const G₁₂_mat = E_mat/(2*(1+ν_mat))\n",
        "\n",
        "const λ_mat = E_mat*ν_mat/((1+ν_mat)*(1-2*ν_mat))\n",
        "const μ_mat = E_mat/(2*(1+ν_mat))\n",
        "const k_mat = λ_mat + μ_mat"
      ],
      "metadata": {
        "id": "57jzKT97D6RJ",
        "outputId": "fe5c6812-1b84-4aa2-baed-609a55fb2470",
        "colab": {
          "base_uri": "https://localhost:8080/"
        }
      },
      "execution_count": 5,
      "outputs": [
        {
          "output_type": "execute_result",
          "data": {
            "text/plain": [
              "25790.82359646623"
            ]
          },
          "metadata": {},
          "execution_count": 5
        }
      ]
    },
    {
      "cell_type": "code",
      "source": [
        "const α = 10\n",
        "const GcI = 0.011\n",
        "const GcII = α * GcI\n",
        "\n",
        "const β = 2\n",
        "const σcI = 10\n",
        "const σcII = β * σcI\n",
        "\n",
        "const η = 1e-15\n",
        "const ls = 1.0"
      ],
      "metadata": {
        "id": "RAVpJ5NzECPX",
        "outputId": "7a46c194-be4b-485b-bdaf-42e4f1ff7d91",
        "colab": {
          "base_uri": "https://localhost:8080/"
        }
      },
      "execution_count": 8,
      "outputs": [
        {
          "output_type": "execute_result",
          "data": {
            "text/plain": [
              "1.0"
            ]
          },
          "metadata": {},
          "execution_count": 8
        }
      ]
    },
    {
      "cell_type": "code",
      "source": [
        "mI(GcIc) = 4*GcIc*k_mat/(pi*ls*σcI^2)\n",
        "mII(GcIIc) = 4*GcIIc*μ_mat/(pi*ls*σcII^2)\n",
        "\n",
        "const ψ_Crit_I = σcI^2/(2*k_mat)\n",
        "const ψ_Crit_II = σcII^2/(2*μ_mat)"
      ],
      "metadata": {
        "id": "aKU8BosuEKee",
        "outputId": "e2ab78c5-a753-4915-c148-5f1fb4ca5a07",
        "colab": {
          "base_uri": "https://localhost:8080/"
        }
      },
      "execution_count": 9,
      "outputs": [
        {
          "output_type": "execute_result",
          "data": {
            "text/plain": [
              "0.013370165745856354"
            ]
          },
          "metadata": {},
          "execution_count": 9
        }
      ]
    },
    {
      "cell_type": "code",
      "source": [
        "const L = 102\n",
        "const H = 102\n",
        "const a = 20.32*0.5\n",
        "const θ = pi/4\n",
        "\n",
        "const CH = 0.204\n",
        "const hfc = ls/2.1\n",
        "const hf = ls/2.1\n",
        "const h = 10*hf\n",
        "const FMR = 5*0.5\n",
        "\n",
        "#Coordinates\n",
        "A1 = 0.5*L - a*cos(θ) + CH*sin(θ)\n",
        "A2 = 0.5*H - a*sin(θ) - CH*cos(θ)\n",
        "\n",
        "B1 = 0.5*L - a*cos(θ) - CH*sin(θ)\n",
        "B2 = 0.5*H - a*sin(θ) + CH*cos(θ)\n",
        "\n",
        "C1 = 0.5*L + a*cos(θ) - CH*sin(θ)\n",
        "C2 = 0.5*H + a*sin(θ) + CH*cos(θ)\n",
        "\n",
        "D1 = 0.5*L + a*cos(θ) + CH*sin(θ)\n",
        "D2 = 0.5*H + a*sin(θ) - CH*cos(θ)\n",
        "\n",
        "gmsh.initialize()\n",
        "gmsh.option.setNumber(\"General.Terminal\", 1)\n",
        "gmsh.model.geo.addPoint(0.0, 0.0, 0.0, h, 1)\n",
        "gmsh.model.geo.addPoint(L, 0.0, 0.0, h, 2)\n",
        "gmsh.model.geo.addPoint(L, H, 0.0, h, 3)\n",
        "gmsh.model.geo.addPoint(0.0, H, 0.0, h, 4)\n",
        "\n",
        "gmsh.model.geo.addPoint(A1, A2, 0.0, h, 5)\n",
        "gmsh.model.geo.addPoint(B1, B2, 0.0, h, 6)\n",
        "gmsh.model.geo.addPoint(C1, C2, 0.0, h, 7)\n",
        "gmsh.model.geo.addPoint(D1, D2, 0.0, h, 8)\n",
        "\n",
        "gmsh.model.geo.addLine(1, 2, 1)\n",
        "gmsh.model.geo.addLine(2, 3, 2)\n",
        "gmsh.model.geo.addLine(3, 4, 3)\n",
        "gmsh.model.geo.addLine(4, 1, 4)\n",
        "\n",
        "gmsh.model.geo.addLine(5, 6, 5)\n",
        "gmsh.model.geo.addLine(6, 7, 6)\n",
        "gmsh.model.geo.addLine(7, 8, 7)\n",
        "gmsh.model.geo.addLine(8, 5, 8)\n",
        "\n",
        "gmsh.model.geo.addLine(1, 3, 55)\n",
        "\n",
        "gmsh.model.geo.addCurveLoop([1,2,3,4],1)\n",
        "gmsh.model.geo.addCurveLoop([5,6,7,8],2)\n",
        "\n",
        "gmsh.model.geo.addPlaneSurface([1,-2], 1)\n",
        "\n",
        "gmsh.model.addPhysicalGroup(2, [1],1)\n",
        "\n",
        "gmsh.model.addPhysicalGroup(1, [1],1)\n",
        "gmsh.model.addPhysicalGroup(1, [3],2)\n",
        "\n",
        "gmsh.model.setPhysicalName(2, 1, \"Domain\")\n",
        "gmsh.model.setPhysicalName(1, 1, \"DirichletBot\")\n",
        "gmsh.model.setPhysicalName(1, 2, \"DirichletTop\")\n",
        "\n",
        "\n",
        "gmsh.model.mesh.field.add(\"Distance\", 1)\n",
        "gmsh.model.mesh.field.setNumbers(1, \"EdgesList\", [55])\n",
        "\n",
        "gmsh.model.mesh.field.add(\"Threshold\", 2)\n",
        "gmsh.model.mesh.field.setNumber(2, \"IField\", 1)\n",
        "gmsh.model.mesh.field.setNumber(2, \"LcMin\", hf)\n",
        "gmsh.model.mesh.field.setNumber(2, \"LcMax\", h)\n",
        "gmsh.model.mesh.field.setNumber(2, \"DistMin\", 30*FMR)\n",
        "gmsh.model.mesh.field.setNumber(2, \"DistMax\", 32*FMR)\n",
        "\n",
        "gmsh.model.mesh.field.setAsBackgroundMesh(2)\n",
        "\n",
        "gmsh.model.geo.synchronize()\n",
        "gmsh.model.mesh.generate(2)\n",
        "gmsh.write(\"SquarePlateWithEdgeNotch.msh\")\n",
        "gmsh.finalize()"
      ],
      "metadata": {
        "id": "mzbZpgJdEOZo",
        "outputId": "14bea2ba-0d87-41af-d794-24db3e823c64",
        "colab": {
          "base_uri": "https://localhost:8080/",
          "height": 128
        }
      },
      "execution_count": 13,
      "outputs": [
        {
          "output_type": "error",
          "ename": "LoadError",
          "evalue": "UndefVarError: `gmsh` not defined",
          "traceback": [
            "UndefVarError: `gmsh` not defined",
            "",
            "Stacktrace:",
            " [1] top-level scope",
            "   @ In[13]:25"
          ]
        }
      ]
    },
    {
      "cell_type": "markdown",
      "metadata": {
        "id": "8RC1QNNqk6h1"
      },
      "source": [
        "# Need Help?\n",
        "\n",
        "* Learning: https://julialang.org/learning/\n",
        "* Documentation: https://docs.julialang.org/\n",
        "* Questions & Discussions:\n",
        "  * https://discourse.julialang.org/\n",
        "  * http://julialang.slack.com/\n",
        "  * https://stackoverflow.com/questions/tagged/julia\n",
        "\n",
        "If you ever ask for help or file an issue about Julia, you should generally provide the output of `versioninfo()`."
      ]
    },
    {
      "cell_type": "markdown",
      "metadata": {
        "id": "2UMidUQB03vJ"
      },
      "source": [
        "Add new code cells by clicking the `+ Code` button (or _Insert_ > _Code cell_).\n",
        "\n",
        "Have fun!\n",
        "\n",
        "<img src=\"https://raw.githubusercontent.com/JuliaLang/julia-logo-graphics/master/images/julia-logo-mask.png\" height=\"100\" />"
      ]
    }
  ]
}